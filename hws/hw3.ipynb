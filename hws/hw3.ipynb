{
 "cells": [
  {
   "cell_type": "markdown",
   "id": "5b8897b9",
   "metadata": {},
   "source": [
    " Определите AUC_ROC и AUC_PR для модели логистической регрессии на тестовой выборке. Используйте реализацию модели в виде класса и функцию confusion, чтобы рассчитать TPR, FPR, precision, recal для различных порогов вероятности.\n",
    "Дополнительное задание(не обязательно): Получите такие же характеристики для линейной регрессии и сравните две модели."
   ]
  },
  {
   "cell_type": "code",
   "execution_count": 1,
   "id": "9ad95537",
   "metadata": {},
   "outputs": [],
   "source": [
    "import matplotlib\n",
    "import numpy as np\n",
    "import matplotlib.pyplot as plt\n",
    "from scipy.stats import norm\n",
    "%matplotlib inline"
   ]
  },
  {
   "cell_type": "code",
   "execution_count": 2,
   "id": "6f23fd0f",
   "metadata": {},
   "outputs": [],
   "source": [
    "class logistic_regression:\n",
    "    def __init__(self, n_iterations=1000, eta=0.05):\n",
    "        self.n_iterations=1000\n",
    "        self.eta=eta\n",
    "    def _log_grad(self, X, target):\n",
    "        m = X.shape[0]\n",
    "        y=(2*target-1)\n",
    "        score=np.dot(X, self.w.T).flatten()+self.w0\n",
    "        Z=-y/(m*(1+np.exp(y*score)))\n",
    "        grad=Z[np.newaxis, :].dot(X)\n",
    "        return grad/m, np.sum(Z)/m\n",
    "    def _optimize(self, X, target):\n",
    "        for i in range(self.n_iterations):        \n",
    "            grad_w, grad_w0 = self._log_grad(X, target)\n",
    "            self.w = self.w-self.eta * grad_w\n",
    "            self.w0 = self.w0 - self.eta * grad_w0\n",
    "    def fit(self, X, target):\n",
    "        self.w = np.zeros((1, X.shape[1]))\n",
    "        self.w0=0\n",
    "        self._optimize(X, target)\n",
    "    def predict_proba(self, X):  \n",
    "        '''\n",
    "        Рассчёт вероятности\n",
    "        '''\n",
    "        score=X.dot(self.w.T).flatten()+self.w0\n",
    "        return 1/(1+np.exp(-score))\n",
    "    def predict(self, X, thr=0.5):\n",
    "        proba=self.predict_proba(X)\n",
    "        y_predicted = np.zeros(proba.shape, dtype=bool) \n",
    "        y_predicted[proba>thr]=1\n",
    "        y_predicted[proba<=thr]=0\n",
    "        return y_predicted"
   ]
  },
  {
   "cell_type": "code",
   "execution_count": 3,
   "id": "fa08898e",
   "metadata": {},
   "outputs": [],
   "source": [
    "def log_loss_and_grad(w, X, target):\n",
    "    m = X.shape[0]\n",
    "    y=(2*target-1)\n",
    "    score=np.dot(X, w.T).flatten()\n",
    "    \n",
    "    # Рассчёт log_loss\n",
    "    loss = np.sum(np.log(1+np.exp(-y*score)))/m \n",
    "    \n",
    "    # Рассчёт градиента\n",
    "    Z=-y/(m*(1+np.exp(y*score)))\n",
    "    grad=Z[np.newaxis, :].dot(X)\n",
    "    return loss, grad\n",
    "\n",
    "\n",
    "def optimize(w, X, y, n_iterations, eta):\n",
    "    #     потери будем записывать в список для отображения в виде графика\n",
    "    losses = []\n",
    "    \n",
    "    for i in range(n_iterations):        \n",
    "        loss, grad = log_loss_and_grad(w, X, y)\n",
    "        w = w - eta * grad\n",
    "        losses.append(loss)\n",
    "        \n",
    "    return w, losses\n",
    "\n",
    "def predict(w, X):\n",
    "    y_predicted = np.zeros(X.shape[0])  \n",
    "    score=np.dot(X, w.T).flatten()\n",
    "    Prob = 1/(1+np.exp(-score))\n",
    "    \n",
    "    #     За порог отнесения к тому или иному классу примем вероятность 0.5\n",
    "    y_predicted[Prob>0.5]=1\n",
    "    y_predicted[Prob<=0.5]=0\n",
    "        \n",
    "    return y_predicted"
   ]
  },
  {
   "cell_type": "code",
   "execution_count": 4,
   "id": "1d62cffb",
   "metadata": {},
   "outputs": [
    {
     "data": {
      "text/plain": [
       "<matplotlib.collections.PathCollection at 0x7fb16da5d7c0>"
      ]
     },
     "execution_count": 4,
     "metadata": {},
     "output_type": "execute_result"
    },
    {
     "data": {
      "image/png": "[encoded data removed]",
      "text/plain": [
       "<Figure size 576x576 with 1 Axes>"
      ]
     },
     "metadata": {
      "needs_background": "light"
     },
     "output_type": "display_data"
    }
   ],
   "source": [
    "from sklearn import datasets\n",
    "from matplotlib.colors import ListedColormap\n",
    "\n",
    "# сгеренируем данные с помощью sklearn.datasets\n",
    "classes = datasets.make_classification(n_samples=100, n_features=2, n_informative=2,\n",
    "                                       n_redundant=0, n_classes=2, random_state=1)\n",
    "# datasets.make_blobs(centers = 2, cluster_std = 1.5, random_state=12)\n",
    "\n",
    "# и изобразим их на графике\n",
    "colors = ListedColormap(['red', 'blue'])\n",
    "\n",
    "plt.figure(figsize=(8, 8))\n",
    "plt.scatter([x[0] for x in classes[0]], [x[1] for x in classes[0]], c=classes[1], cmap=colors)"
   ]
  },
  {
   "cell_type": "code",
   "execution_count": 5,
   "id": "1df40ad8",
   "metadata": {},
   "outputs": [
    {
     "name": "stdout",
     "output_type": "stream",
     "text": [
      "Размер массива признаков обучающей выборки (70, 2)\n",
      "Размер массива признаков тестовой выборки (30, 2)\n",
      "Размер массива ответов для обучающей выборки (70,)\n",
      "Размер массива ответов для тестовой выборки (30,)\n"
     ]
    }
   ],
   "source": [
    "# перемешивание датасета\n",
    "np.random.seed(12)\n",
    "shuffle_index = np.random.permutation(classes[0].shape[0])\n",
    "X_shuffled, y_shuffled = classes[0][shuffle_index], classes[1][shuffle_index]\n",
    "\n",
    "# разбивка на обучающую и тестовую выборки\n",
    "train_proportion = 0.7\n",
    "train_test_cut = int(len(classes[0]) * train_proportion)\n",
    "\n",
    "X_train, X_test, y_train, y_test = \\\n",
    "    X_shuffled[:train_test_cut], \\\n",
    "    X_shuffled[train_test_cut:], \\\n",
    "    y_shuffled[:train_test_cut], \\\n",
    "    y_shuffled[train_test_cut:]\n",
    "    \n",
    "print(\"Размер массива признаков обучающей выборки\", X_train.shape)\n",
    "print(\"Размер массива признаков тестовой выборки\", X_test.shape)\n",
    "print(\"Размер массива ответов для обучающей выборки\", y_train.shape)\n",
    "print(\"Размер массива ответов для тестовой выборки\", y_test.shape)"
   ]
  },
  {
   "cell_type": "code",
   "execution_count": 6,
   "id": "7fdb78be",
   "metadata": {},
   "outputs": [
    {
     "name": "stdout",
     "output_type": "stream",
     "text": [
      "Итоговый вектор весов w: [[3.72659902 0.22383415]]\n",
      "Точность на обучающей выборке: 98.571\n",
      "Точность на тестовой выборке: 96.667\n"
     ]
    }
   ],
   "source": [
    "w0 = np.zeros((1, X_train.shape[1]))\n",
    "\n",
    "n_iterations = 1000\n",
    "eta = 0.05\n",
    "\n",
    "w, losses = optimize(w0, X_train, y_train, n_iterations, eta)\n",
    "\n",
    "y_predicted_test = predict(w, X_test)\n",
    "y_predicted_train = predict(w, X_train)\n",
    "\n",
    "# В качестве меры точности возьмем долю правильных ответов\n",
    "train_accuracy = 100.0 - np.mean(np.abs(y_predicted_train - y_train)*100.0)\n",
    "test_accuracy = 100.0 - np.mean(np.abs(y_predicted_test-y_test)*100.0)\n",
    "\n",
    "print(f\"Итоговый вектор весов w: {w}\")\n",
    "print(f\"Точность на обучающей выборке: {train_accuracy:.3f}\")\n",
    "print(f\"Точность на тестовой выборке: {test_accuracy:.3f}\")"
   ]
  },
  {
   "cell_type": "code",
   "execution_count": 7,
   "id": "5c9cdc64",
   "metadata": {},
   "outputs": [
    {
     "name": "stdout",
     "output_type": "stream",
     "text": [
      "Итоговый вектор весов w: [[0.32398168 0.01226158]]\n",
      "Точность на обучающей выборке: 97.143\n",
      "Точность на тестовой выборке: 96.667\n"
     ]
    }
   ],
   "source": [
    "mod=logistic_regression()\n",
    "mod.fit(X_train, y_train)\n",
    "y_predicted_test = mod.predict(X_test)\n",
    "y_predicted_train = mod.predict(X_train)\n",
    "\n",
    "# В качестве меры точности возьмем долю правильных ответов\n",
    "train_accuracy = 100.0 - np.mean(np.abs(y_predicted_train - y_train)*100.0)\n",
    "test_accuracy = 100.0 - np.mean(np.abs(y_predicted_test-y_test)*100.0)\n",
    "print(f\"Итоговый вектор весов w: {mod.w}\")\n",
    "print(f\"Точность на обучающей выборке: {train_accuracy:.3f}\")\n",
    "print(f\"Точность на тестовой выборке: {test_accuracy:.3f}\")"
   ]
  },
  {
   "cell_type": "code",
   "execution_count": 8,
   "id": "27a36bde",
   "metadata": {},
   "outputs": [
    {
     "data": {
      "text/plain": [
       "(0.9635336007587412, 0.9433393400219047)"
      ]
     },
     "execution_count": 8,
     "metadata": {},
     "output_type": "execute_result"
    }
   ],
   "source": [
    "mod.w[0, 0]/np.sum(mod.w), w[0, 0]/np.sum(w)"
   ]
  },
  {
   "cell_type": "code",
   "execution_count": 9,
   "id": "88ee8f06",
   "metadata": {},
   "outputs": [
    {
     "data": {
      "text/plain": [
       "[<matplotlib.lines.Line2D at 0x7fb16dd519a0>]"
      ]
     },
     "execution_count": 9,
     "metadata": {},
     "output_type": "execute_result"
    },
    {
     "data": {
      "image/png": "[encoded data removed]",
      "text/plain": [
       "<Figure size 432x288 with 1 Axes>"
      ]
     },
     "metadata": {
      "needs_background": "light"
     },
     "output_type": "display_data"
    }
   ],
   "source": [
    "plt.title('Log loss')\n",
    "plt.xlabel('iterations')\n",
    "plt.ylabel('loss')\n",
    "plt.plot(range(len(losses)), losses)"
   ]
  },
  {
   "cell_type": "markdown",
   "id": "388a8a7e",
   "metadata": {},
   "source": [
    "# Матрица ошибок"
   ]
  },
  {
   "cell_type": "code",
   "execution_count": 10,
   "id": "0e813f11",
   "metadata": {},
   "outputs": [],
   "source": [
    "def confusion(predicted, actual):\n",
    "    TP=np.sum(np.logical_and(predicted==1, actual==1))\n",
    "    FP=np.sum(np.logical_and(predicted==1, actual==0))\n",
    "    FN=np.sum(np.logical_and(predicted==0, actual==1))\n",
    "    TN=np.sum(np.logical_and(predicted==0, actual==0))\n",
    "    return {'TP': TP, 'FP': FP, 'FN': FN, 'TN': TN}"
   ]
  },
  {
   "cell_type": "code",
   "execution_count": 11,
   "id": "c90ff8fe",
   "metadata": {},
   "outputs": [
    {
     "name": "stdout",
     "output_type": "stream",
     "text": [
      "Для порога по вероятности 0.5 на тестовой выборке имеем: {'TP': 15, 'FP': 0, 'FN': 1, 'TN': 14}\n",
      "Для порога по вероятности 0.4 на тестовой выборке имеем: {'TP': 16, 'FP': 9, 'FN': 0, 'TN': 5}\n"
     ]
    }
   ],
   "source": [
    "print(\"Для порога по вероятности 0.5 на тестовой выборке имеем:\"+\n",
    "      f\" {confusion(mod.predict(X_test), y_test)}\")\n",
    "print(\"Для порога по вероятности 0.4 на тестовой выборке имеем:\"+\n",
    "      f\" {confusion(mod.predict(X_test, 0.4), y_test)}\")"
   ]
  },
  {
   "cell_type": "code",
   "execution_count": 12,
   "id": "805d7057",
   "metadata": {},
   "outputs": [
    {
     "name": "stdout",
     "output_type": "stream",
     "text": [
      "Для порога по вероятности 0.5 на тестовой выборке имеем: чувствительность 0.9375,специфичность 1.0, сбалансированную точность 0.96875\n"
     ]
    }
   ],
   "source": [
    "cofusion_fixed=confusion(mod.predict(X_test), y_test)\n",
    "sensitivity=cofusion_fixed['TP']/(cofusion_fixed['TP']+cofusion_fixed['FN'])\n",
    "specificity=cofusion_fixed['TN']/(cofusion_fixed['TN']+cofusion_fixed['FP'])\n",
    "balanced_accuracy=(sensitivity+specificity)/2\n",
    "print(f\"Для порога по вероятности 0.5 на тестовой выборке имеем: чувствительность {sensitivity},\"+\n",
    "      f\"специфичность {specificity}, сбалансированную точность {balanced_accuracy}\")"
   ]
  },
  {
   "cell_type": "code",
   "execution_count": 13,
   "id": "644588b4",
   "metadata": {},
   "outputs": [
    {
     "name": "stdout",
     "output_type": "stream",
     "text": [
      "Для порога по вероятности 0.5 на тестовой выборке имеем: точность 1.0,полноту 0.9375, f1-скор 0.967741935483871\n"
     ]
    }
   ],
   "source": [
    "precision=cofusion_fixed['TP']/(cofusion_fixed['TP']+cofusion_fixed['FP'])\n",
    "recall=sensitivity\n",
    "f1_score=2*precision*recall/(precision+recall)\n",
    "print(f\"Для порога по вероятности 0.5 на тестовой выборке имеем: точность {precision},\"+\n",
    "      f\"полноту {recall}, f1-скор {f1_score}\")"
   ]
  },
  {
   "cell_type": "code",
   "execution_count": 14,
   "id": "160f5078",
   "metadata": {},
   "outputs": [],
   "source": [
    "#Генерируем метки классов\n",
    "target=np.zeros((20,))\n",
    "target[:np.random.randint(5, 15)]=1\n",
    "np.random.shuffle(target)\n",
    "\n",
    "\n",
    "# К какому бы распределению не относился x мы значение кумулятовнойй функции распределения\n",
    "#cdf(x) всегда случайное число с равномерным распределением в интервале от 0 до 1 \n",
    "#Значит мы можем сгенерировать сначала значения кумулятивной функции, а затем по ним получить x\n",
    "cdf_values=np.random.uniform(0, 1, size=(20,)) \n",
    "x=np.empty(cdf_values.shape)\n",
    "x[target==1]=norm.ppf(cdf_values[target==1], loc=8, scale=1.5)\n",
    "x[target==0]=norm.ppf(cdf_values[target==0], loc=3, scale=3)"
   ]
  },
  {
   "cell_type": "code",
   "execution_count": 15,
   "id": "b34190f9",
   "metadata": {},
   "outputs": [
    {
     "name": "stdout",
     "output_type": "stream",
     "text": [
      "Значение x:-2.006469158112364 класс 0.0\n",
      "Значение x:-1.383067718901029 класс 0.0\n",
      "Значение x:1.9396016804533007 класс 0.0\n",
      "Значение x:2.079226796365827 класс 0.0\n",
      "Значение x:2.6585234054764277 класс 0.0\n",
      "Значение x:3.354713557046951 класс 0.0\n",
      "Значение x:3.7859031130591703 класс 0.0\n",
      "Значение x:4.477431494631115 класс 0.0\n",
      "Значение x:4.535996022211134 класс 0.0\n",
      "Значение x:6.000073271633463 класс 1.0\n",
      "Значение x:6.306097239931607 класс 1.0\n",
      "Значение x:6.323780437653893 класс 1.0\n",
      "Значение x:6.432353702705481 класс 0.0\n",
      "Значение x:6.454640143478179 класс 0.0\n",
      "Значение x:6.921992936236876 класс 1.0\n",
      "Значение x:7.078392283539363 класс 1.0\n",
      "Значение x:7.292622143694099 класс 1.0\n",
      "Значение x:8.09633863923953 класс 1.0\n",
      "Значение x:9.945697286605208 класс 1.0\n",
      "Значение x:10.056860299213342 класс 1.0\n"
     ]
    }
   ],
   "source": [
    "order=np.argsort(x)\n",
    "target=target[order]\n",
    "x=x[order]\n",
    "\n",
    "for _x, t in zip(x, target):\n",
    "    print(\"Значение x:{0} класс {1}\".format(_x, t))"
   ]
  },
  {
   "cell_type": "code",
   "execution_count": 16,
   "id": "087f14d7",
   "metadata": {},
   "outputs": [
    {
     "name": "stdout",
     "output_type": "stream",
     "text": [
      "9.0 объектов положительного класса, 11.0 объектов негативного класса\n"
     ]
    }
   ],
   "source": [
    "bins_pos=target\n",
    "bins_neg=1-target\n",
    "num_pos, num_neg=np.sum(bins_pos), np.sum(bins_neg)\n",
    "print(f'{num_pos} объектов положительного класса, {num_neg} объектов негативного класса')"
   ]
  },
  {
   "cell_type": "code",
   "execution_count": 17,
   "id": "ac534288",
   "metadata": {},
   "outputs": [
    {
     "data": {
      "text/plain": [
       "array([ 1.,  2.,  3.,  4.,  5.,  6.,  7.,  8.,  9.,  9.,  9.,  9., 10.,\n",
       "       11., 11., 11., 11., 11., 11., 11.])"
      ]
     },
     "execution_count": 17,
     "metadata": {},
     "output_type": "execute_result"
    }
   ],
   "source": [
    "np.cumsum(bins_neg)"
   ]
  },
  {
   "cell_type": "code",
   "execution_count": 18,
   "id": "8aa28d54",
   "metadata": {},
   "outputs": [],
   "source": [
    "#Чувствительность, доля объектов негативного класса, которых при текущем значении предела\n",
    "#правильно записали в негативный класс\n",
    "TPR=np.concatenate([[0], np.cumsum(bins_neg)/num_neg])\n",
    "\n",
    "#Ложно-позитивный уровень, доля объектов положительного класса, которых при текущем значении предела\n",
    "#ошибочно записали в негативный класс\n",
    "FPR=np.concatenate([[0], np.cumsum(bins_pos)/num_pos])"
   ]
  },
  {
   "cell_type": "code",
   "execution_count": 19,
   "id": "b351ff83",
   "metadata": {},
   "outputs": [
    {
     "data": {
      "text/plain": [
       "[<matplotlib.lines.Line2D at 0x7fb16de1f880>]"
      ]
     },
     "execution_count": 19,
     "metadata": {},
     "output_type": "execute_result"
    },
    {
     "data": {
      "image/png": "[encoded data removed]",
      "text/plain": [
       "<Figure size 432x288 with 1 Axes>"
      ]
     },
     "metadata": {
      "needs_background": "light"
     },
     "output_type": "display_data"
    }
   ],
   "source": [
    "AUC_ROC = np.sum((FPR[1:]-FPR[:-1])*(TPR[1:]+TPR[:-1])/2)\n",
    "\n",
    "plt.title('ROC curve')\n",
    "plt.ylim(0, 1.05)\n",
    "plt.xlabel('FPR')\n",
    "plt.ylabel('TPR')\n",
    "plt.grid()\n",
    "plt.legend(' ', title=f'AUC-ROC={AUC_ROC:.3f}', loc='lower right')\n",
    "plt.plot(FPR, TPR)"
   ]
  },
  {
   "cell_type": "code",
   "execution_count": 20,
   "id": "c87d9ef7",
   "metadata": {},
   "outputs": [],
   "source": [
    "precision=np.cumsum(bins_neg)/(np.cumsum(bins_neg)+np.cumsum(bins_pos))\n",
    "recall = TPR"
   ]
  },
  {
   "cell_type": "code",
   "execution_count": 21,
   "id": "ea6d5e8f",
   "metadata": {},
   "outputs": [
    {
     "data": {
      "text/plain": [
       "[<matplotlib.lines.Line2D at 0x7fb16df2b2b0>]"
      ]
     },
     "execution_count": 21,
     "metadata": {},
     "output_type": "execute_result"
    },
    {
     "data": {
      "image/png": "[encoded data removed]",
      "text/plain": [
       "<Figure size 432x288 with 1 Axes>"
      ]
     },
     "metadata": {
      "needs_background": "light"
     },
     "output_type": "display_data"
    }
   ],
   "source": [
    "AUC_PR = np.sum(precision*(recall[1:]-recall[:-1]))\n",
    "\n",
    "plt.title('PR curve')\n",
    "plt.ylim(0, 1.05)\n",
    "plt.xlabel('recall')\n",
    "plt.ylabel('presision')\n",
    "plt.grid()\n",
    "plt.legend(' ', title=f'AUC-PR={AUC_PR:.3f}', loc='lower right')\n",
    "plt.plot(recall[1:], precision)"
   ]
  },
  {
   "cell_type": "code",
   "execution_count": null,
   "id": "698be46a",
   "metadata": {},
   "outputs": [],
   "source": []
  }
 ],
 "metadata": {
  "kernelspec": {
   "display_name": "Python 3",
   "language": "python",
   "name": "python3"
  },
  "language_info": {
   "codemirror_mode": {
    "name": "ipython",
    "version": 3
   },
   "file_extension": ".py",
   "mimetype": "text/x-python",
   "name": "python",
   "nbconvert_exporter": "python",
   "pygments_lexer": "ipython3",
   "version": "3.8.3"
  }
 },
 "nbformat": 4,
 "nbformat_minor": 5
}
