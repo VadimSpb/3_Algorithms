{
 "cells": [
  {
   "cell_type": "markdown",
   "metadata": {
    "id": "_7i0mYyQ5yaF"
   },
   "source": [
    "# Курс [\"Алгоритмы анализа данных\"](https://gb.ru/lessons/177362)"
   ]
  },
  {
   "cell_type": "markdown",
   "metadata": {
    "id": "UoUHI7Ju5yLq"
   },
   "source": [
    "# Урок 1. Алгоритм линейной регрессии. Градиентный спуск\n"
   ]
  },
  {
   "cell_type": "markdown",
   "metadata": {},
   "source": [
    "## **Задание 1.**\n",
    "\n",
    "### Проведите небольшое исследование алгоритма градиентного спуска. Оцените влияние значений скорости обучения (alpha) и количества итераций на ошибку алгоритма. \n",
    "\n",
    "### Как связаны эти два гиперпараметра между собой? \n",
    "\n",
    "### Подберите скорость обучения и количество итераций до совпадения ответов алгоритма с результатами МНК."
   ]
  },
  {
   "cell_type": "markdown",
   "metadata": {},
   "source": [
    "### Ответ"
   ]
  },
  {
   "cell_type": "markdown",
   "metadata": {},
   "source": [
    "Как это уже видно из [этого файлa](https://nbviewer.org/github/VadimSpb/3_Algorithms/blob/hw01/hws/hw1.ipynb),  скорость обучения (alpha) влияет на скорость выхода на нужные веса; количество итераций на ошибку алгоритма ограничивает временной ресурс процесса - сколько допустимо итераций. Если представить MSE как целевой показатель на графике, то график будет близок к экспоненциальному. При этом параметры в некоторм смысле обратнопропорциональны - чем больше скорость обучения, тем за меньшее число итераций параметры весов будут максимально близки к оптимальным. В реальных примерах эти параметры подбираются эмпирически. "
   ]
  },
  {
   "cell_type": "markdown",
   "metadata": {},
   "source": [
    "## **Задание 2.(*)**\n",
    "\n",
    "### В этом коде мы избавляемся от итераций по весам, но тут есть ошибка, исправьте ее:\n",
    "​\n",
    "```python\n",
    "w = np.array([1, 0.5])\n",
    "for i in range(1000):\n",
    "    y_pred = np.dot(w, X.T)\n",
    "    err = calc_mse(y, y_pred)\n",
    "    w -= (alpha * (1/n * 2 * np.sum(X.T * (y_pred - y))))\n",
    "    if i % 100 == 0:\n",
    "         print(i, w, err)\n",
    "```"
   ]
  },
  {
   "cell_type": "code",
   "execution_count": 1,
   "metadata": {},
   "outputs": [],
   "source": [
    "import numpy as np"
   ]
  },
  {
   "cell_type": "code",
   "execution_count": 2,
   "metadata": {},
   "outputs": [],
   "source": [
    "X = np.array([[1, 1, 1, 1, 1, 1, 1, 1, 1, 1],\n",
    "              [1, 1, 2, 1, 3, 0, 5, 10, 1, 2]])\n",
    "y = [45, 55, 50, 59, 65, 35, 75, 80, 50, 60]"
   ]
  },
  {
   "cell_type": "code",
   "execution_count": 3,
   "metadata": {},
   "outputs": [],
   "source": [
    "alpha = 0.01\n",
    "w = np.array([1, 0.5])\n",
    "n = X.shape[1]"
   ]
  },
  {
   "cell_type": "code",
   "execution_count": 4,
   "metadata": {},
   "outputs": [],
   "source": [
    "def calc_mse(y, y_pred):\n",
    "    err = np.mean((y - y_pred)**2)\n",
    "    return err"
   ]
  },
  {
   "cell_type": "code",
   "execution_count": 5,
   "metadata": {},
   "outputs": [
    {
     "name": "stdout",
     "output_type": "stream",
     "text": [
      "0 [2.102 3.9  ] 3173.15\n",
      "100 [31.88770806  6.74418155] 175.19445858001856\n",
      "200 [41.83683774  4.90699865] 61.9177717428135\n",
      "300 [45.33508261  4.26102097] 47.913169919666785\n",
      "400 [46.56511152  4.03388672] 46.181755648107604\n",
      "500 [46.99760587  3.95402334] 45.96769776787538\n",
      "600 [47.14967657  3.92594232] 45.941233404700036\n",
      "700 [47.20314662  3.91606866] 45.93796156758051\n",
      "800 [47.2219474   3.91259695] 45.93755706443538\n",
      "900 [47.228558    3.91137626] 45.937507054979434\n"
     ]
    }
   ],
   "source": [
    "for i in range(1000):\n",
    "    y_pred = np.dot(w, X)\n",
    "    err = calc_mse(y, y_pred)\n",
    "    w -= alpha * 2/n * np.dot((y_pred - y), X.T)\n",
    "    if i % 100 == 0:\n",
    "         print(i, w, err)"
   ]
  },
  {
   "cell_type": "markdown",
   "metadata": {},
   "source": [
    "## **Задание 3.(*)** \n",
    "\n",
    "### Вместо того, чтобы задавать количество итераций, задайте условие остановки алгоритма - когда ошибка за итерацию начинает изменяться ниже определенного порога.\n",
    "\n",
    "### Сколько нужно сделать итераций, если установить допустимое отклонение MSE в размере diff=10e−6, а значение alpha=10e−2?"
   ]
  },
  {
   "cell_type": "code",
   "execution_count": 6,
   "metadata": {},
   "outputs": [],
   "source": [
    "X = np.array([[1, 1, 1, 1, 1, 1, 1, 1, 1, 1],\n",
    "              [1, 1, 2, 1, 3, 0, 5, 10, 1, 2]])\n",
    "y = [45, 55, 50, 59, 65, 35, 75, 80, 50, 60]"
   ]
  },
  {
   "cell_type": "code",
   "execution_count": 7,
   "metadata": {},
   "outputs": [],
   "source": [
    "w = np.array([1, 0.5])\n",
    "n = X.shape[1]"
   ]
  },
  {
   "cell_type": "code",
   "execution_count": 8,
   "metadata": {},
   "outputs": [],
   "source": [
    "def calc_mse(y, y_pred):\n",
    "    err = np.mean((y - y_pred)**2)\n",
    "    return err"
   ]
  },
  {
   "cell_type": "code",
   "execution_count": 9,
   "metadata": {},
   "outputs": [],
   "source": [
    "alpha = 10e-2\n",
    "min_error_diff = 10e-6\n",
    "error_diff = np.inf\n",
    "errors = []\n",
    "iter_num = 0"
   ]
  },
  {
   "cell_type": "code",
   "execution_count": 10,
   "metadata": {},
   "outputs": [
    {
     "name": "stdout",
     "output_type": "stream",
     "text": [
      "0 [12.02 34.5 ] 3173.15\n"
     ]
    }
   ],
   "source": [
    "while error_diff > min_error_diff:\n",
    "    y_pred = np.dot(w, X)\n",
    "    err = calc_mse(y, y_pred)\n",
    "    errors.append(err)\n",
    "    \n",
    "    w -= alpha * 2/n * np.dot((y_pred - y), X.T)\n",
    "    if iter_num % 50 == 0:\n",
    "        print(iter_num, w, err)\n",
    "    \n",
    "    if iter_num >= 1:\n",
    "        error_diff = errors[iter_num - 1] - errors[iter_num]\n",
    "    iter_num += 1"
   ]
  },
  {
   "cell_type": "code",
   "execution_count": 11,
   "metadata": {},
   "outputs": [
    {
     "name": "stdout",
     "output_type": "stream",
     "text": [
      "2\n"
     ]
    }
   ],
   "source": [
    "print(iter_num)"
   ]
  }
 ],
 "metadata": {
  "colab": {
   "authorship_tag": "ABX9TyMOGFJbeFOA2YlIwPF5oJDA",
   "name": "new_hw1.ipynb",
   "provenance": []
  },
  "kernelspec": {
   "display_name": "Python 3",
   "language": "python",
   "name": "python3"
  },
  "language_info": {
   "codemirror_mode": {
    "name": "ipython",
    "version": 3
   },
   "file_extension": ".py",
   "mimetype": "text/x-python",
   "name": "python",
   "nbconvert_exporter": "python",
   "pygments_lexer": "ipython3",
   "version": "3.8.3"
  },
  "widgets": {
   "application/vnd.jupyter.widget-state+json": {
    "state": {},
    "version_major": 2,
    "version_minor": 0
   }
  }
 },
 "nbformat": 4,
 "nbformat_minor": 1
}
