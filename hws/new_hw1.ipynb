{
 "cells": [
  {
   "cell_type": "markdown",
   "metadata": {
    "id": "_7i0mYyQ5yaF"
   },
   "source": [
    "# Курс [\"Алгоритмы анализа данных\"](https://gb.ru/lessons/177362)"
   ]
  },
  {
   "cell_type": "markdown",
   "metadata": {
    "id": "UoUHI7Ju5yLq"
   },
   "source": [
    "## Урок 1. Алгоритм линейной регрессии. Градиентный спуск\n"
   ]
  },
  {
   "cell_type": "markdown",
   "metadata": {
    "id": "XqEY9u4N6aLP"
   },
   "source": [
    " ### Домашнее задание.\n",
    "\n",
    "**Задание 1.**\n",
    "\n",
    "Проведите небольшое исследование алгоритма градиентного спуска. Оцените влияние значений скорости обучения (alpha) и количества итераций на ошибку алгоритма. \n",
    "\n",
    "Как связаны эти два гиперпараметра между собой? \n",
    "\n",
    "Подберите скорость обучения и количество итераций до совпадения ответов алгоритма с результатами МНК.\n",
    "\n",
    "**Задание 2.(*)**\n",
    "\n",
    "В этом коде мы избавляемся от итераций по весам, но тут есть ошибка, исправьте ее:\n",
    "​\n",
    "```python\n",
    "w = np.array([1, 0.5])\n",
    "for i in range(1000):\n",
    "    y_pred = np.dot(w, X.T)\n",
    "    err = calc_mse(y, y_pred)\n",
    "    w -= (alpha * (1/n * 2 * np.sum(X.T * (y_pred - y))))\n",
    "    if i % 100 == 0:\n",
    "         print(i, w, err)\n",
    "```\n",
    "**Задание 3.(*)** \n",
    "\n",
    "Вместо того, чтобы задавать количество итераций, задайте условие остановки алгоритма - когда ошибка за итерацию начинает изменяться ниже определенного порога.\n",
    "\n",
    "Сколько нужно сделать итераций, если установить допустимое отклонение MSE в размере diff=10e−6, а значение alpha=10e−2?"
   ]
  },
  {
   "cell_type": "markdown",
   "metadata": {
    "id": "TFhpwvXd7hTz"
   },
   "source": [
    "## Импорт библиотек, настройка среды и генерация данных"
   ]
  },
  {
   "cell_type": "code",
   "execution_count": 2,
   "metadata": {
    "executionInfo": {
     "elapsed": 1300,
     "status": "ok",
     "timestamp": 1634543880140,
     "user": {
      "displayName": "Вадим Мазейко",
      "photoUrl": "https://lh3.googleusercontent.com/a-/AOh14GgzzPmjJp9EDtE7JLNkYoTlN2yCz6VGvFhYsu8b9p4=s64",
      "userId": "08165702792296522036"
     },
     "user_tz": -180
    },
    "id": "J5UNQyW75e7j",
    "pycharm": {
     "name": "#%%\n"
    }
   },
   "outputs": [],
   "source": [
    "import numpy as np\n",
    "# import pandas as pd\n",
    "# import pandas_profiling\n",
    "# import matplotlib\n",
    "# import matplotlib.pyplot as plt\n",
    "# from sklearn.datasets import make_regression\n",
    "\n",
    "# %matplotlib inline"
   ]
  },
  {
   "cell_type": "code",
   "execution_count": 3,
   "metadata": {},
   "outputs": [],
   "source": [
    "from myalglib import MyLinearRegression"
   ]
  },
  {
   "cell_type": "code",
   "execution_count": 4,
   "metadata": {},
   "outputs": [],
   "source": [
    "# Возьмем 2 признака и 1000 объектов\n",
    "n_features = 2\n",
    "n_objects = 1000"
   ]
  },
  {
   "cell_type": "code",
   "execution_count": 5,
   "metadata": {},
   "outputs": [],
   "source": [
    "# сгенерируем вектор истинных весов\n",
    "w_true = np.random.normal(size=(1, n_features ))"
   ]
  },
  {
   "cell_type": "code",
   "execution_count": 6,
   "metadata": {},
   "outputs": [],
   "source": [
    "# сгенерируем матрицу X, вычислим Y с добавлением случайного шума\n",
    "X = np.random.uniform(-7, 7, (n_objects, n_features))\n",
    "Y = X.dot(w_true.T) + np.random.normal(0, 0.5, size=(n_objects, 1))"
   ]
  },
  {
   "cell_type": "markdown",
   "metadata": {
    "pycharm": {
     "name": "#%% md\n"
    }
   },
   "source": [
    "## Обучаем линейную регрессию"
   ]
  },
  {
   "cell_type": "code",
   "execution_count": 7,
   "metadata": {
    "pycharm": {
     "name": "#%%\n"
    }
   },
   "outputs": [
    {
     "data": {
      "text/plain": "48.78486719042904"
     },
     "execution_count": 7,
     "metadata": {},
     "output_type": "execute_result"
    }
   ],
   "source": [
    "shift = np.random.uniform(0, 100)\n",
    "shift"
   ]
  },
  {
   "cell_type": "code",
   "execution_count": 8,
   "metadata": {},
   "outputs": [
    {
     "data": {
      "text/plain": "array([[46.54487721],\n       [47.82135753],\n       [48.33954401],\n       [51.57591201],\n       [49.96888169],\n       [50.67915147],\n       [49.55083146],\n       [50.32628867],\n       [50.94541873],\n       [47.98973402]])"
     },
     "execution_count": 8,
     "metadata": {},
     "output_type": "execute_result"
    }
   ],
   "source": [
    "Y_shift=Y+shift\n",
    "Y_shift[:10]"
   ]
  },
  {
   "cell_type": "code",
   "execution_count": 9,
   "metadata": {},
   "outputs": [
    {
     "data": {
      "text/plain": "43.65850762550191"
     },
     "execution_count": 9,
     "metadata": {},
     "output_type": "execute_result"
    }
   ],
   "source": [
    "lr= MyLinearRegression(eta=0.01, max_iter=1e4, min_weight_dist=1e-8)\n",
    "lr.fit(X, Y_shift)\n",
    "lr.test(X, Y_shift)"
   ]
  },
  {
   "cell_type": "code",
   "execution_count": 9,
   "metadata": {},
   "outputs": [
    {
     "data": {
      "text/plain": [
       "(array([[ 0.96180461, -0.09399651]]), array([[ 0.95693681, -0.08990923]]))"
      ]
     },
     "execution_count": 9,
     "metadata": {},
     "output_type": "execute_result"
    }
   ],
   "source": [
    "# Сравним истинные веса с расчётными:\n",
    "lr.w, w_true"
   ]
  },
  {
   "cell_type": "code",
   "execution_count": null,
   "metadata": {},
   "outputs": [],
   "source": []
  }
 ],
 "metadata": {
  "colab": {
   "authorship_tag": "ABX9TyMOGFJbeFOA2YlIwPF5oJDA",
   "name": "new_hw1.ipynb",
   "provenance": []
  },
  "kernelspec": {
   "name": "pycharm-7da63b70",
   "language": "python",
   "display_name": "PyCharm (3_Алгоритмы анализа данных)"
  },
  "language_info": {
   "codemirror_mode": {
    "name": "ipython",
    "version": 3
   },
   "file_extension": ".py",
   "mimetype": "text/x-python",
   "name": "python",
   "nbconvert_exporter": "python",
   "pygments_lexer": "ipython3",
   "version": "3.8.3"
  },
  "widgets": {
   "application/vnd.jupyter.widget-state+json": {
    "state": {},
    "version_major": 2,
    "version_minor": 0
   }
  }
 },
 "nbformat": 4,
 "nbformat_minor": 1
}