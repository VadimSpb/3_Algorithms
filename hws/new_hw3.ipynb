{
 "cells": [
  {
   "cell_type": "markdown",
   "metadata": {
    "id": "_7i0mYyQ5yaF"
   },
   "source": [
    "# Курс [\"Алгоритмы анализа данных\"](https://gb.ru/lessons/177362)"
   ]
  },
  {
   "cell_type": "markdown",
   "metadata": {
    "id": "UoUHI7Ju5yLq"
   },
   "source": [
    "# Урок 2. Масштабирование признаков. L1- и L2-регуляризация. Стохастический градиентный спуск"
   ]
  },
  {
   "cell_type": "code",
   "execution_count": 1,
   "metadata": {},
   "outputs": [],
   "source": [
    "import numpy as np\n",
    "import pandas as pd\n",
    "import inspect\n",
    "import matplotlib.pyplot as plt\n",
    "from sklearn import datasets"
   ]
  },
  {
   "cell_type": "code",
   "execution_count": 2,
   "metadata": {},
   "outputs": [],
   "source": [
    "X = np.array([[1, 1, 1, 1, 1, 1, 1, 1, 1, 1],\n",
    "              [1, 1, 2, 1, 3, 0, 5, 10, 1, 2],  # стаж репетитора\n",
    "              [500, 700, 750, 600, 1450,        # средняя стоимость занятия\n",
    "               800, 1500, 2000, 450, 1000],\n",
    "              [1, 1, 2, 1, 2, 1, 3, 3, 1, 2]],  # квалификация репетитора\n",
    "              dtype = np.float64).T \n",
    "\n",
    "y = np.array([0, 0, 1, 0, 1, 0, 1, 0, 1, 1]) # поступил или нет ученик на специальность Математика"
   ]
  },
  {
   "cell_type": "markdown",
   "metadata": {},
   "source": [
    "## Задание 1.\n",
    "\n",
    "### Измените функцию `calc_logloss` так, чтобы нули по возможности не попадали в `np.log` (как вариант - использовать `np.clip` или `np.where`)."
   ]
  },
  {
   "cell_type": "code",
   "execution_count": 3,
   "metadata": {},
   "outputs": [],
   "source": [
    "from myalglib import MyLogReg"
   ]
  },
  {
   "cell_type": "code",
   "execution_count": 4,
   "metadata": {},
   "outputs": [
    {
     "name": "stdout",
     "output_type": "stream",
     "text": [
      "    @staticmethod\n",
      "    def _calc_logloss(y, y_pred):\n",
      "        max_ = 10e+10 / (10e+10 + 1)  # 0.9999(9)\n",
      "        min_ = 1 - max_  # 1.000000082740371e-11\n",
      "        y_pred = np.clip(y_pred, min_, max_)\n",
      "        err = - np.mean(y * np.log(y_pred) + (1.0 - y) * np.log(1.0 - y_pred))\n",
      "        err = np.sum(err)\n",
      "        return err\n",
      "\n"
     ]
    }
   ],
   "source": [
    "print(inspect.getsource(MyLogReg._calc_logloss))"
   ]
  },
  {
   "cell_type": "markdown",
   "metadata": {},
   "source": [
    "## Задание 2\n",
    "\n",
    "### Подберите аргументы функции eval_LR_model для логистической регрессии таким образом, чтобы log loss был минимальным. Покажите влияние гиперпараметров на ошибку алгоритма (оптимально здесь использовать критерий остановки обучения)."
   ]
  },
  {
   "cell_type": "code",
   "execution_count": 5,
   "metadata": {},
   "outputs": [
    {
     "name": "stdout",
     "output_type": "stream",
     "text": [
      "CPU times: user 4 µs, sys: 1 µs, total: 5 µs\n",
      "Wall time: 10 µs\n"
     ]
    }
   ],
   "source": [
    "%time\n",
    "\n",
    "logs = []\n",
    "best_params = None\n",
    "err_min = 1000\n",
    "iterations = [5000, 4000, 3000, 2000, 1000]\n",
    "alphas = [ 1e-1, 1e-2, 1e-3, 1e-4, 1e-5, 1e-6] \n",
    "\n",
    "for iteration in iterations:\n",
    "    for alpha in alphas:\n",
    "        log_r = MyLogReg(iter_num=iteration,alpha=alpha ,random_seed=42, scaler='standart')\n",
    "        log_r.fit(X, y)\n",
    "        err = min(log_r.err_logs)\n",
    "        if err < err_min:\n",
    "            err_min = err\n",
    "            best_params = {'best iteration_num': iteration, 'best alpha': alpha}\n",
    "        logs.append({'iteration_num': iteration, 'alpha': alpha, 'err': err})"
   ]
  },
  {
   "cell_type": "code",
   "execution_count": 6,
   "metadata": {},
   "outputs": [
    {
     "data": {
      "text/plain": [
       "{'best iteration_num': 3000, 'best alpha': 0.1}"
      ]
     },
     "execution_count": 6,
     "metadata": {},
     "output_type": "execute_result"
    }
   ],
   "source": [
    "best_params"
   ]
  },
  {
   "cell_type": "markdown",
   "metadata": {},
   "source": [
    "## Задание 3. \n",
    "### Создайте функцию `calc_pred_proba`, возвращающую предсказанную вероятность класса 1 (на вход подаются значения признаков Х и веса, которые уже посчитаны функцией `eval_LR_model`, на выходе - массив `y_pred_proba`)."
   ]
  },
  {
   "cell_type": "code",
   "execution_count": 7,
   "metadata": {},
   "outputs": [
    {
     "name": "stdout",
     "output_type": "stream",
     "text": [
      "    def predict_proba(self, x=None):\n",
      "        \"\"\"\n",
      "        Расчёт вероятности\n",
      "        \"\"\"\n",
      "        if x is None:\n",
      "            x = self.x\n",
      "        score = x.dot(self.w.T).flatten()\n",
      "        return 1 / (1 + np.exp(-score))\n",
      "\n"
     ]
    }
   ],
   "source": [
    "print(inspect.getsource(MyLogReg.predict_proba))"
   ]
  },
  {
   "cell_type": "code",
   "execution_count": 8,
   "metadata": {},
   "outputs": [],
   "source": [
    "log_r = MyLogReg(iter_num=best_params['best iteration_num'],\n",
    "                 alpha=best_params['best alpha'], \n",
    "                 random_seed=42, \n",
    "                 scaler='standart')\n",
    "log_r.fit(X, y)"
   ]
  },
  {
   "cell_type": "code",
   "execution_count": 9,
   "metadata": {},
   "outputs": [
    {
     "data": {
      "text/plain": [
       "array([1., 1., 1., 1., 1., 1., 1., 1., 1., 1.])"
      ]
     },
     "execution_count": 9,
     "metadata": {},
     "output_type": "execute_result"
    }
   ],
   "source": [
    "log_r.predict_proba(X)"
   ]
  },
  {
   "cell_type": "markdown",
   "metadata": {},
   "source": [
    "## Задание 4.\n",
    "### Создайте функцию `calc_pred`, возвращающую предсказанный класс (на вход подаются значения признаков `Х` и веса, которые уже посчитаны функцией `eval_LR_model`, на выходе - массив `y_pred`)."
   ]
  },
  {
   "cell_type": "code",
   "execution_count": 10,
   "metadata": {},
   "outputs": [
    {
     "name": "stdout",
     "output_type": "stream",
     "text": [
      "    def predict(self, x, thr=0.5):\n",
      "        proba = self.predict_proba(x)\n",
      "        y_pred = np.zeros(proba.shape, dtype=bool)\n",
      "        y_pred[proba > thr] = 1\n",
      "        y_pred[proba <= thr] = 0\n",
      "        self.y_pred = y_pred\n",
      "        self.accuracy = len(y_pred[self.y == y_pred]) / len(y_pred)\n",
      "        self.err_matrix = self.correlation_matrix(y_pred, self.y)\n",
      "        self.precision = (len(y_pred[(self.y == y_pred) & (y_pred == 1)]) /\n",
      "                        len(y_pred[(self.y == y_pred) & (y_pred == 1)]) +\n",
      "                          len(y_pred[(self.y != y_pred) & (y_pred == 1)]))\n",
      "        self.recall = (len(y_pred[(self.y == y_pred) & (y_pred == 1)]) /\n",
      "                      (len(y_pred[(self.y == y_pred) & (y_pred == 1)]) +\n",
      "                       len(y_pred[(self.y != y_pred) & (y_pred == 0)])))\n",
      "        self.f1_score = (2 * self.precision * self.recall\n",
      "                         / (self.precision + self.recall))\n",
      "        return y_pred\n",
      "\n"
     ]
    }
   ],
   "source": [
    "print(inspect.getsource(MyLogReg.predict))"
   ]
  },
  {
   "cell_type": "code",
   "execution_count": 11,
   "metadata": {},
   "outputs": [
    {
     "data": {
      "text/plain": [
       "array([ True,  True,  True,  True,  True,  True,  True,  True,  True,\n",
       "        True])"
      ]
     },
     "execution_count": 11,
     "metadata": {},
     "output_type": "execute_result"
    }
   ],
   "source": [
    "log_r.predict(X)"
   ]
  },
  {
   "cell_type": "markdown",
   "metadata": {},
   "source": [
    "## Задание 5.\n",
    "\n",
    "### Посчитайте accuracy, матрицу ошибок, precision и recall, а также F1-score."
   ]
  },
  {
   "cell_type": "code",
   "execution_count": 12,
   "metadata": {},
   "outputs": [
    {
     "data": {
      "text/html": [
       "<div>\n",
       "<style scoped>\n",
       "    .dataframe tbody tr th:only-of-type {\n",
       "        vertical-align: middle;\n",
       "    }\n",
       "\n",
       "    .dataframe tbody tr th {\n",
       "        vertical-align: top;\n",
       "    }\n",
       "\n",
       "    .dataframe thead th {\n",
       "        text-align: right;\n",
       "    }\n",
       "</style>\n",
       "<table border=\"1\" class=\"dataframe\">\n",
       "  <thead>\n",
       "    <tr style=\"text-align: right;\">\n",
       "      <th></th>\n",
       "      <th>y = +1</th>\n",
       "      <th>y = -1</th>\n",
       "    </tr>\n",
       "    <tr>\n",
       "      <th>y_pred</th>\n",
       "      <th></th>\n",
       "      <th></th>\n",
       "    </tr>\n",
       "  </thead>\n",
       "  <tbody>\n",
       "    <tr>\n",
       "      <th>a(x) = +1</th>\n",
       "      <td>5</td>\n",
       "      <td>5</td>\n",
       "    </tr>\n",
       "    <tr>\n",
       "      <th>a(x) = -1</th>\n",
       "      <td>0</td>\n",
       "      <td>0</td>\n",
       "    </tr>\n",
       "  </tbody>\n",
       "</table>\n",
       "</div>"
      ],
      "text/plain": [
       "           y = +1  y = -1\n",
       "y_pred                   \n",
       "a(x) = +1       5       5\n",
       "a(x) = -1       0       0"
      ]
     },
     "execution_count": 12,
     "metadata": {},
     "output_type": "execute_result"
    }
   ],
   "source": [
    "log_r.err_matrix"
   ]
  },
  {
   "cell_type": "code",
   "execution_count": 13,
   "metadata": {},
   "outputs": [
    {
     "data": {
      "text/plain": [
       "(0.5, 6.0, 1.0)"
      ]
     },
     "execution_count": 13,
     "metadata": {},
     "output_type": "execute_result"
    }
   ],
   "source": [
    "log_r.accuracy, log_r.precision, log_r.recall"
   ]
  },
  {
   "cell_type": "code",
   "execution_count": 14,
   "metadata": {},
   "outputs": [
    {
     "data": {
      "text/plain": [
       "1.7142857142857142"
      ]
     },
     "execution_count": 14,
     "metadata": {},
     "output_type": "execute_result"
    }
   ],
   "source": [
    "log_r.f1_score"
   ]
  },
  {
   "cell_type": "markdown",
   "metadata": {},
   "source": [
    "##  Задание 6.\n",
    "### Могла ли модель переобучиться? Почему?"
   ]
  },
  {
   "cell_type": "markdown",
   "metadata": {},
   "source": [
    "Да. Данных мало. Нет разбиения на тестовую и валидационную выборки"
   ]
  },
  {
   "cell_type": "markdown",
   "metadata": {},
   "source": [
    "## Задание 7. (\\*) \n",
    "\n",
    "### Создайте функции `eval_LR_model_l1` и `eval_LR_model_l2` с применением L1 и L2 регуляризации соответственно."
   ]
  },
  {
   "cell_type": "markdown",
   "metadata": {},
   "source": [
    "Задание уже выполнено как метод класса:"
   ]
  },
  {
   "cell_type": "code",
   "execution_count": 15,
   "metadata": {},
   "outputs": [
    {
     "name": "stdout",
     "output_type": "stream",
     "text": [
      "    def _penalty_value(self, penalty, w):\n",
      "        \"\"\"\n",
      "        @return: L1, L2 penalty value or None\n",
      "        \"\"\"\n",
      "        penalty_value = 0\n",
      "        if penalty == 'l1':\n",
      "            penalty_value = self.lambda_ * w / abs(w)\n",
      "        if penalty == 'l2':\n",
      "            penalty_value = 2 * self.lambda_ * w\n",
      "        return penalty_value\n",
      "\n"
     ]
    }
   ],
   "source": [
    "print(inspect.getsource(MyLogReg._penalty_value))"
   ]
  }
 ],
 "metadata": {
  "colab": {
   "authorship_tag": "ABX9TyMOGFJbeFOA2YlIwPF5oJDA",
   "name": "new_hw1.ipynb",
   "provenance": []
  },
  "kernelspec": {
   "display_name": "Python 3",
   "language": "python",
   "name": "python3"
  },
  "language_info": {
   "codemirror_mode": {
    "name": "ipython",
    "version": 3
   },
   "file_extension": ".py",
   "mimetype": "text/x-python",
   "name": "python",
   "nbconvert_exporter": "python",
   "pygments_lexer": "ipython3",
   "version": "3.8.3"
  },
  "widgets": {
   "application/vnd.jupyter.widget-state+json": {
    "state": {},
    "version_major": 2,
    "version_minor": 0
   }
  }
 },
 "nbformat": 4,
 "nbformat_minor": 1
}
